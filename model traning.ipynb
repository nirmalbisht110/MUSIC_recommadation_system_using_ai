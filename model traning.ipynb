{
 "cells": [
  {
   "cell_type": "code",
   "execution_count": 1,
   "id": "a60d7186-2871-4af4-b2b3-f1251368a61e",
   "metadata": {},
   "outputs": [],
   "source": [
    "\n",
    "import pandas as pd"
   ]
  },
  {
   "cell_type": "code",
   "execution_count": 2,
   "id": "63f53a1e-5e2d-4ea7-a49e-77383b7c629e",
   "metadata": {},
   "outputs": [],
   "source": [
    "\n",
    "df = pd.read_csv(\"spotify_millsongdata.csv\")"
   ]
  },
  {
   "cell_type": "code",
   "execution_count": 3,
   "id": "fa2eb15c-aeb1-484d-a5b4-55a9cef6950c",
   "metadata": {},
   "outputs": [
    {
     "data": {
      "text/html": [
       "<div>\n",
       "<style scoped>\n",
       "    .dataframe tbody tr th:only-of-type {\n",
       "        vertical-align: middle;\n",
       "    }\n",
       "\n",
       "    .dataframe tbody tr th {\n",
       "        vertical-align: top;\n",
       "    }\n",
       "\n",
       "    .dataframe thead th {\n",
       "        text-align: right;\n",
       "    }\n",
       "</style>\n",
       "<table border=\"1\" class=\"dataframe\">\n",
       "  <thead>\n",
       "    <tr style=\"text-align: right;\">\n",
       "      <th></th>\n",
       "      <th>artist</th>\n",
       "      <th>song</th>\n",
       "      <th>link</th>\n",
       "      <th>text</th>\n",
       "    </tr>\n",
       "  </thead>\n",
       "  <tbody>\n",
       "    <tr>\n",
       "      <th>0</th>\n",
       "      <td>ABBA</td>\n",
       "      <td>Ahe's My Kind Of Girl</td>\n",
       "      <td>/a/abba/ahes+my+kind+of+girl_20598417.html</td>\n",
       "      <td>Look at her face, it's a wonderful face  \\r\\nA...</td>\n",
       "    </tr>\n",
       "    <tr>\n",
       "      <th>1</th>\n",
       "      <td>ABBA</td>\n",
       "      <td>Andante, Andante</td>\n",
       "      <td>/a/abba/andante+andante_20002708.html</td>\n",
       "      <td>Take it easy with me, please  \\r\\nTouch me gen...</td>\n",
       "    </tr>\n",
       "    <tr>\n",
       "      <th>2</th>\n",
       "      <td>ABBA</td>\n",
       "      <td>As Good As New</td>\n",
       "      <td>/a/abba/as+good+as+new_20003033.html</td>\n",
       "      <td>I'll never know why I had to go  \\r\\nWhy I had...</td>\n",
       "    </tr>\n",
       "    <tr>\n",
       "      <th>3</th>\n",
       "      <td>ABBA</td>\n",
       "      <td>Bang</td>\n",
       "      <td>/a/abba/bang_20598415.html</td>\n",
       "      <td>Making somebody happy is a question of give an...</td>\n",
       "    </tr>\n",
       "    <tr>\n",
       "      <th>4</th>\n",
       "      <td>ABBA</td>\n",
       "      <td>Bang-A-Boomerang</td>\n",
       "      <td>/a/abba/bang+a+boomerang_20002668.html</td>\n",
       "      <td>Making somebody happy is a question of give an...</td>\n",
       "    </tr>\n",
       "  </tbody>\n",
       "</table>\n",
       "</div>"
      ],
      "text/plain": [
       "  artist                   song                                        link  \\\n",
       "0   ABBA  Ahe's My Kind Of Girl  /a/abba/ahes+my+kind+of+girl_20598417.html   \n",
       "1   ABBA       Andante, Andante       /a/abba/andante+andante_20002708.html   \n",
       "2   ABBA         As Good As New        /a/abba/as+good+as+new_20003033.html   \n",
       "3   ABBA                   Bang                  /a/abba/bang_20598415.html   \n",
       "4   ABBA       Bang-A-Boomerang      /a/abba/bang+a+boomerang_20002668.html   \n",
       "\n",
       "                                                text  \n",
       "0  Look at her face, it's a wonderful face  \\r\\nA...  \n",
       "1  Take it easy with me, please  \\r\\nTouch me gen...  \n",
       "2  I'll never know why I had to go  \\r\\nWhy I had...  \n",
       "3  Making somebody happy is a question of give an...  \n",
       "4  Making somebody happy is a question of give an...  "
      ]
     },
     "execution_count": 3,
     "metadata": {},
     "output_type": "execute_result"
    }
   ],
   "source": [
    "df.head(5)"
   ]
  },
  {
   "cell_type": "code",
   "execution_count": 4,
   "id": "fb600c83-8df5-4777-a4c4-1e1edb6d9cec",
   "metadata": {},
   "outputs": [
    {
     "data": {
      "text/html": [
       "<div>\n",
       "<style scoped>\n",
       "    .dataframe tbody tr th:only-of-type {\n",
       "        vertical-align: middle;\n",
       "    }\n",
       "\n",
       "    .dataframe tbody tr th {\n",
       "        vertical-align: top;\n",
       "    }\n",
       "\n",
       "    .dataframe thead th {\n",
       "        text-align: right;\n",
       "    }\n",
       "</style>\n",
       "<table border=\"1\" class=\"dataframe\">\n",
       "  <thead>\n",
       "    <tr style=\"text-align: right;\">\n",
       "      <th></th>\n",
       "      <th>artist</th>\n",
       "      <th>song</th>\n",
       "      <th>link</th>\n",
       "      <th>text</th>\n",
       "    </tr>\n",
       "  </thead>\n",
       "  <tbody>\n",
       "    <tr>\n",
       "      <th>57645</th>\n",
       "      <td>Ziggy Marley</td>\n",
       "      <td>Good Old Days</td>\n",
       "      <td>/z/ziggy+marley/good+old+days_10198588.html</td>\n",
       "      <td>Irie days come on play  \\r\\nLet the angels fly...</td>\n",
       "    </tr>\n",
       "    <tr>\n",
       "      <th>57646</th>\n",
       "      <td>Ziggy Marley</td>\n",
       "      <td>Hand To Mouth</td>\n",
       "      <td>/z/ziggy+marley/hand+to+mouth_20531167.html</td>\n",
       "      <td>Power to the workers  \\r\\nMore power  \\r\\nPowe...</td>\n",
       "    </tr>\n",
       "    <tr>\n",
       "      <th>57647</th>\n",
       "      <td>Zwan</td>\n",
       "      <td>Come With Me</td>\n",
       "      <td>/z/zwan/come+with+me_20148981.html</td>\n",
       "      <td>all you need  \\r\\nis something i'll believe  \\...</td>\n",
       "    </tr>\n",
       "    <tr>\n",
       "      <th>57648</th>\n",
       "      <td>Zwan</td>\n",
       "      <td>Desire</td>\n",
       "      <td>/z/zwan/desire_20148986.html</td>\n",
       "      <td>northern star  \\r\\nam i frightened  \\r\\nwhere ...</td>\n",
       "    </tr>\n",
       "    <tr>\n",
       "      <th>57649</th>\n",
       "      <td>Zwan</td>\n",
       "      <td>Heartsong</td>\n",
       "      <td>/z/zwan/heartsong_20148991.html</td>\n",
       "      <td>come in  \\r\\nmake yourself at home  \\r\\ni'm a ...</td>\n",
       "    </tr>\n",
       "  </tbody>\n",
       "</table>\n",
       "</div>"
      ],
      "text/plain": [
       "             artist           song  \\\n",
       "57645  Ziggy Marley  Good Old Days   \n",
       "57646  Ziggy Marley  Hand To Mouth   \n",
       "57647          Zwan   Come With Me   \n",
       "57648          Zwan         Desire   \n",
       "57649          Zwan      Heartsong   \n",
       "\n",
       "                                              link  \\\n",
       "57645  /z/ziggy+marley/good+old+days_10198588.html   \n",
       "57646  /z/ziggy+marley/hand+to+mouth_20531167.html   \n",
       "57647           /z/zwan/come+with+me_20148981.html   \n",
       "57648                 /z/zwan/desire_20148986.html   \n",
       "57649              /z/zwan/heartsong_20148991.html   \n",
       "\n",
       "                                                    text  \n",
       "57645  Irie days come on play  \\r\\nLet the angels fly...  \n",
       "57646  Power to the workers  \\r\\nMore power  \\r\\nPowe...  \n",
       "57647  all you need  \\r\\nis something i'll believe  \\...  \n",
       "57648  northern star  \\r\\nam i frightened  \\r\\nwhere ...  \n",
       "57649  come in  \\r\\nmake yourself at home  \\r\\ni'm a ...  "
      ]
     },
     "execution_count": 4,
     "metadata": {},
     "output_type": "execute_result"
    }
   ],
   "source": [
    "df.tail(5)"
   ]
  },
  {
   "cell_type": "code",
   "execution_count": 5,
   "id": "3dada5e6-b4b0-44b2-b0b5-68a870f44ba8",
   "metadata": {},
   "outputs": [
    {
     "data": {
      "text/plain": [
       "(57650, 4)"
      ]
     },
     "execution_count": 5,
     "metadata": {},
     "output_type": "execute_result"
    }
   ],
   "source": [
    "df.shape"
   ]
  },
  {
   "cell_type": "code",
   "execution_count": 6,
   "id": "ee616abf-bfcf-41b1-b40c-faabe0bc0fb1",
   "metadata": {},
   "outputs": [
    {
     "data": {
      "text/plain": [
       "artist    0\n",
       "song      0\n",
       "link      0\n",
       "text      0\n",
       "dtype: int64"
      ]
     },
     "execution_count": 6,
     "metadata": {},
     "output_type": "execute_result"
    }
   ],
   "source": [
    "df.isnull().sum()"
   ]
  },
  {
   "cell_type": "code",
   "execution_count": 7,
   "id": "71820664-e337-42ef-a7a2-d2ce1cd0b694",
   "metadata": {},
   "outputs": [],
   "source": [
    "df =df.sample(5000).drop('link', axis=1).reset_index(drop=True)"
   ]
  },
  {
   "cell_type": "code",
   "execution_count": 8,
   "id": "7f1f1a6b-7e0e-41b8-92e2-25f07c759c4a",
   "metadata": {},
   "outputs": [
    {
     "data": {
      "text/html": [
       "<div>\n",
       "<style scoped>\n",
       "    .dataframe tbody tr th:only-of-type {\n",
       "        vertical-align: middle;\n",
       "    }\n",
       "\n",
       "    .dataframe tbody tr th {\n",
       "        vertical-align: top;\n",
       "    }\n",
       "\n",
       "    .dataframe thead th {\n",
       "        text-align: right;\n",
       "    }\n",
       "</style>\n",
       "<table border=\"1\" class=\"dataframe\">\n",
       "  <thead>\n",
       "    <tr style=\"text-align: right;\">\n",
       "      <th></th>\n",
       "      <th>artist</th>\n",
       "      <th>song</th>\n",
       "      <th>text</th>\n",
       "    </tr>\n",
       "  </thead>\n",
       "  <tbody>\n",
       "    <tr>\n",
       "      <th>0</th>\n",
       "      <td>Jose Mari Chan</td>\n",
       "      <td>Can't We Start Over Again</td>\n",
       "      <td>It's been a long long while  \\r\\nI know I've c...</td>\n",
       "    </tr>\n",
       "    <tr>\n",
       "      <th>1</th>\n",
       "      <td>Christy Moore</td>\n",
       "      <td>Dunnes Stores</td>\n",
       "      <td>Close your eyes and come with me back to 1984 ...</td>\n",
       "    </tr>\n",
       "    <tr>\n",
       "      <th>2</th>\n",
       "      <td>Eurythmics</td>\n",
       "      <td>Beethoven</td>\n",
       "      <td>Take a girl like that  \\r\\nAnd put her in a na...</td>\n",
       "    </tr>\n",
       "    <tr>\n",
       "      <th>3</th>\n",
       "      <td>David Guetta</td>\n",
       "      <td>Baby When The Light</td>\n",
       "      <td>In spite of all the consequence  \\r\\nIn spite ...</td>\n",
       "    </tr>\n",
       "    <tr>\n",
       "      <th>4</th>\n",
       "      <td>Unwritten Law</td>\n",
       "      <td>The Legend Of Johnny And Sarah</td>\n",
       "      <td>Johnny  \\r\\nWas just a kid I knew  \\r\\nAnd may...</td>\n",
       "    </tr>\n",
       "    <tr>\n",
       "      <th>5</th>\n",
       "      <td>Rihanna</td>\n",
       "      <td>Close To You</td>\n",
       "      <td>[Verse 1]  \\r\\nNothing but a tear, that's all ...</td>\n",
       "    </tr>\n",
       "    <tr>\n",
       "      <th>6</th>\n",
       "      <td>David Bowie</td>\n",
       "      <td>Lady Grinning Soul</td>\n",
       "      <td>She'll come, she'll go. She'll lay belief on y...</td>\n",
       "    </tr>\n",
       "    <tr>\n",
       "      <th>7</th>\n",
       "      <td>Air Supply</td>\n",
       "      <td>A Little Bit More</td>\n",
       "      <td>For certain she was the face of springtime,  \\...</td>\n",
       "    </tr>\n",
       "    <tr>\n",
       "      <th>8</th>\n",
       "      <td>Lil Wayne</td>\n",
       "      <td>I Miss My Dawgs</td>\n",
       "      <td>Yea, yea, yea, yea  \\r\\nThis is the Carter mot...</td>\n",
       "    </tr>\n",
       "    <tr>\n",
       "      <th>9</th>\n",
       "      <td>Mc Hammer</td>\n",
       "      <td>Break 'em Off Somethin' Proper</td>\n",
       "      <td>Chorus (8x): (Q-tip)  \\r\\nIf you say Hammer Pr...</td>\n",
       "    </tr>\n",
       "  </tbody>\n",
       "</table>\n",
       "</div>"
      ],
      "text/plain": [
       "           artist                            song  \\\n",
       "0  Jose Mari Chan       Can't We Start Over Again   \n",
       "1   Christy Moore                   Dunnes Stores   \n",
       "2      Eurythmics                       Beethoven   \n",
       "3    David Guetta             Baby When The Light   \n",
       "4   Unwritten Law  The Legend Of Johnny And Sarah   \n",
       "5         Rihanna                    Close To You   \n",
       "6     David Bowie              Lady Grinning Soul   \n",
       "7      Air Supply               A Little Bit More   \n",
       "8       Lil Wayne                 I Miss My Dawgs   \n",
       "9       Mc Hammer  Break 'em Off Somethin' Proper   \n",
       "\n",
       "                                                text  \n",
       "0  It's been a long long while  \\r\\nI know I've c...  \n",
       "1  Close your eyes and come with me back to 1984 ...  \n",
       "2  Take a girl like that  \\r\\nAnd put her in a na...  \n",
       "3  In spite of all the consequence  \\r\\nIn spite ...  \n",
       "4  Johnny  \\r\\nWas just a kid I knew  \\r\\nAnd may...  \n",
       "5  [Verse 1]  \\r\\nNothing but a tear, that's all ...  \n",
       "6  She'll come, she'll go. She'll lay belief on y...  \n",
       "7  For certain she was the face of springtime,  \\...  \n",
       "8  Yea, yea, yea, yea  \\r\\nThis is the Carter mot...  \n",
       "9  Chorus (8x): (Q-tip)  \\r\\nIf you say Hammer Pr...  "
      ]
     },
     "execution_count": 8,
     "metadata": {},
     "output_type": "execute_result"
    }
   ],
   "source": [
    "\n",
    "df.head(10)"
   ]
  },
  {
   "cell_type": "code",
   "execution_count": 9,
   "id": "e3273789-ba39-46d4-8818-76ebd753f1e3",
   "metadata": {},
   "outputs": [
    {
     "data": {
      "text/plain": [
       "\"It's been a long long while  \\r\\nI know I've caused you pain  \\r\\nLiving without you it's not quite the same  \\r\\nCan we start over again  \\r\\n  \\r\\nI played around to long  \\r\\nRunning from end to end  \\r\\nTook you for granted I've been such a fool  \\r\\nCan't we start over again  \\r\\n  \\r\\nAll through my life of seasons  \\r\\nNo matter how far I long  \\r\\nAlways there's something missing inside  \\r\\nYearning to come back home  \\r\\n  \\r\\nYou are the one I return to  \\r\\nLove only love leads the way  \\r\\nGive us this chance to start over again  \\r\\nDarling I'm coming home to stay  \\r\\n  \\r\\nYou are the one I return to  \\r\\nLove only love leads the way  \\r\\nGive us this chance to start over again  \\r\\nDarling I'm coming home to stay  \\r\\n  \\r\\nIt's been a long long while  \\r\\nI know I've caused you pain  \\r\\nLiving without you it's not quite the same  \\r\\nCan we start over again  \\r\\n  \\r\\nI played around to long  \\r\\nRunning from end to end  \\r\\nTook you for granted I've been such a fool  \\r\\nCan't we start over again  \\r\\n  \\r\\nAll through my life of seasons  \\r\\nNo matter how far I long  \\r\\nAlways there's something missing inside  \\r\\nYearning to come back home  \\r\\n  \\r\\nYou are the one I return to  \\r\\nLove only love leads the way  \\r\\nGive us this chance to start over again  \\r\\nDarling I'm coming home to stay\\r\\n\\r\\n\""
      ]
     },
     "execution_count": 9,
     "metadata": {},
     "output_type": "execute_result"
    }
   ],
   "source": [
    "\n",
    "df['text'][0]"
   ]
  },
  {
   "cell_type": "code",
   "execution_count": 10,
   "id": "ff3f6371-861d-48ca-bafd-47fb0bc49616",
   "metadata": {},
   "outputs": [],
   "source": [
    "# df = df.sample(5000)"
   ]
  },
  {
   "cell_type": "code",
   "execution_count": 11,
   "id": "45989254-9c8b-4d54-9e44-53be951ec384",
   "metadata": {},
   "outputs": [
    {
     "data": {
      "text/plain": [
       "(5000, 3)"
      ]
     },
     "execution_count": 11,
     "metadata": {},
     "output_type": "execute_result"
    }
   ],
   "source": [
    "df.shape"
   ]
  },
  {
   "cell_type": "code",
   "execution_count": 12,
   "id": "3bdf0fa5-acec-4f75-9773-1a152e6a060e",
   "metadata": {},
   "outputs": [],
   "source": [
    "df['text'] = df['text'].str.lower().replace(r'^\\w\\s', ' ').replace(r'\\n', ' ', regex = True)"
   ]
  },
  {
   "cell_type": "code",
   "execution_count": 13,
   "id": "328b2e16-3836-4bf5-836b-9f9d810fd1fa",
   "metadata": {},
   "outputs": [],
   "source": [
    "import nltk\n",
    "from nltk.stem.porter import PorterStemmer\n",
    "stemmer = PorterStemmer()\n",
    "\n",
    "def tokenization(txt):\n",
    "    tokens = nltk.word_tokenize(txt)\n",
    "    stemming = [stemmer.stem(w) for w in tokens]\n",
    "    return \" \".join(stemming)"
   ]
  },
  {
   "cell_type": "code",
   "execution_count": 18,
   "id": "9a4d92b4-33f9-4954-ba0e-8d7b1cfe55d8",
   "metadata": {},
   "outputs": [
    {
     "name": "stderr",
     "output_type": "stream",
     "text": [
      "[nltk_data] Downloading package punkt to\n",
      "[nltk_data]     C:\\Users\\nirma\\AppData\\Roaming\\nltk_data...\n",
      "[nltk_data]   Package punkt is already up-to-date!\n",
      "[nltk_data] Downloading package punkt_tab to\n",
      "[nltk_data]     C:\\Users\\nirma\\AppData\\Roaming\\nltk_data...\n",
      "[nltk_data]   Unzipping tokenizers\\punkt_tab.zip.\n"
     ]
    },
    {
     "data": {
      "text/plain": [
       "True"
      ]
     },
     "execution_count": 18,
     "metadata": {},
     "output_type": "execute_result"
    }
   ],
   "source": [
    "import nltk\n",
    "nltk.download('punkt')  # You already have this\n",
    "nltk.download('punkt_tab')  # This might be needed\n"
   ]
  },
  {
   "cell_type": "code",
   "execution_count": 19,
   "id": "8a624da4-e5ae-4a8c-80ee-75f5e3747311",
   "metadata": {},
   "outputs": [],
   "source": [
    "df['text'] = df['text'].apply(lambda x: tokenization(x))"
   ]
  },
  {
   "cell_type": "code",
   "execution_count": 20,
   "id": "1c40e591-9c2e-4c54-99e4-c71fda7681e4",
   "metadata": {},
   "outputs": [],
   "source": [
    "from sklearn.feature_extraction.text import TfidfVectorizer\n",
    "from sklearn.metrics.pairwise import cosine_similarity"
   ]
  },
  {
   "cell_type": "code",
   "execution_count": 21,
   "id": "7422f84d-f43b-4f9e-8dd5-46b15c9104fb",
   "metadata": {},
   "outputs": [],
   "source": [
    "tfidvector = TfidfVectorizer(analyzer='word',stop_words='english')\n",
    "matrix = tfidvector.fit_transform(df['text'])\n",
    "similarity = cosine_similarity(matrix)"
   ]
  },
  {
   "cell_type": "code",
   "execution_count": 22,
   "id": "8c29a1fd-be2c-4570-9945-fbf01ac50bf8",
   "metadata": {},
   "outputs": [
    {
     "data": {
      "text/plain": [
       "array([1.        , 0.0324407 , 0.05881121, ..., 0.02655737, 0.00833881,\n",
       "       0.03321546])"
      ]
     },
     "execution_count": 22,
     "metadata": {},
     "output_type": "execute_result"
    }
   ],
   "source": [
    "similarity[0]"
   ]
  },
  {
   "cell_type": "code",
   "execution_count": 23,
   "id": "a41702c8-5735-4b50-baff-573ae54784c9",
   "metadata": {},
   "outputs": [],
   "source": [
    "def recommendation(song_df):\n",
    "    idx = df[df['song'] == song_df].index[0]\n",
    "    distances = sorted(list(enumerate(similarity[idx])),reverse=True,key=lambda x:x[1])\n",
    "    \n",
    "    songs = []\n",
    "    for m_id in distances[1:21]:\n",
    "        songs.append(df.iloc[m_id[0]].song)\n",
    "        \n",
    "    return songs"
   ]
  },
  {
   "cell_type": "code",
   "execution_count": 25,
   "id": "d2038848-4857-4b13-b500-e9fa3244d108",
   "metadata": {},
   "outputs": [
    {
     "name": "stdout",
     "output_type": "stream",
     "text": [
      "Found 0 case-insensitive matches\n",
      "\n",
      "Sample songs in your dataset:\n",
      "['Sarah', 'Revenge For Love', \"It's Over Now\", 'Happy Birthday', 'Wasted My Hate']\n",
      "\n",
      "Songs containing 'crying':\n",
      "[\"It's All Over But The Crying\", 'Crying In The Chapel', 'Crying', 'Crying', 'Crying In The Chapel', 'Crying Time']\n"
     ]
    }
   ],
   "source": [
    "# Check for case-insensitive matches\n",
    "possible_matches = df[df['song'].str.lower() == \"crying over you\".lower()]\n",
    "print(f\"Found {len(possible_matches)} case-insensitive matches\")\n",
    "\n",
    "# Print a few sample songs from your dataset\n",
    "print(\"\\nSample songs in your dataset:\")\n",
    "print(df['song'].sample(5).tolist())\n",
    "\n",
    "# Check if there are songs with similar names\n",
    "print(\"\\nSongs containing 'crying':\")\n",
    "crying_songs = df[df['song'].str.lower().str.contains('crying')]\n",
    "if not crying_songs.empty:\n",
    "    print(crying_songs['song'].tolist())\n",
    "else:\n",
    "    print(\"No songs with 'crying' found\")"
   ]
  },
  {
   "cell_type": "code",
   "execution_count": 26,
   "id": "d5033c26-8567-4ddd-a7ed-5a6e9fbb761e",
   "metadata": {},
   "outputs": [],
   "source": [
    "def recommendation(song_name):\n",
    "    # First check if the song exists in our dataset\n",
    "    matching_songs = df[df['song'] == song_name]\n",
    "    \n",
    "    if matching_songs.empty:\n",
    "        return f\"Song '{song_name}' not found in the dataset.\"\n",
    "    \n",
    "    # Get the index of the song\n",
    "    idx = matching_songs.index[0]\n",
    "    \n",
    "    # Calculate similarity and get recommendations\n",
    "    distances = sorted(list(enumerate(similarity[idx])), reverse=True, key=lambda x: x[1])\n",
    "    \n",
    "    # Get top 5 similar songs (excluding the input song itself)\n",
    "    songs = []\n",
    "    for i in range(1, min(6, len(distances))):  # Start from 1 to exclude the song itself\n",
    "        songs.append(df.iloc[distances[i][0]]['song'])\n",
    "    \n",
    "    return songs"
   ]
  },
  {
   "cell_type": "code",
   "execution_count": 27,
   "id": "31488f52-77b0-4ab1-a6da-150ad65b5c21",
   "metadata": {},
   "outputs": [
    {
     "name": "stdout",
     "output_type": "stream",
     "text": [
      "First 5 rows of the dataset:\n",
      "           artist                            song  \\\n",
      "0  Jose Mari Chan       Can't We Start Over Again   \n",
      "1   Christy Moore                   Dunnes Stores   \n",
      "2      Eurythmics                       Beethoven   \n",
      "3    David Guetta             Baby When The Light   \n",
      "4   Unwritten Law  The Legend Of Johnny And Sarah   \n",
      "\n",
      "                                                text  \n",
      "0  it 's been a long long while i know i 've caus...  \n",
      "1  close your eye and come with me back to 1984 w...  \n",
      "2  take a girl like that and put her in a natur s...  \n",
      "3  in spite of all the consequ in spite of all my...  \n",
      "4  johnni wa just a kid i knew and mayb he did n'...  \n",
      "\n",
      "Total number of songs in the dataset: 5000\n",
      "\n",
      "10 random songs from the dataset:\n",
      "['Ebony And Ivory', 'Away From You', 'Sleigh Ride', 'A Room At The Heartbreak Hotel', 'All Is Well', 'He Thinks I Still Care', 'All Hell Breaks Loose', 'Lost', 'Smoke Signals', 'Destination']\n"
     ]
    }
   ],
   "source": [
    "# Display the first few rows of the dataset\n",
    "print(\"First 5 rows of the dataset:\")\n",
    "print(df.head())\n",
    "\n",
    "# Show how many songs are in the dataset\n",
    "print(f\"\\nTotal number of songs in the dataset: {len(df)}\")\n",
    "\n",
    "# Display 10 random song names from the dataset\n",
    "print(\"\\n10 random songs from the dataset:\")\n",
    "print(df['song'].sample(10).tolist())"
   ]
  },
  {
   "cell_type": "code",
   "execution_count": 28,
   "id": "474ead83-b1b2-4ea2-8b1c-606593b0d030",
   "metadata": {},
   "outputs": [
    {
     "data": {
      "text/plain": [
       "\"Song 'Jose Mari Chan ' not found in the dataset.\""
      ]
     },
     "execution_count": 28,
     "metadata": {},
     "output_type": "execute_result"
    }
   ],
   "source": [
    " recommendation(\"Jose Mari Chan \")  # Replace with an actual song name from your dataset"
   ]
  },
  {
   "cell_type": "code",
   "execution_count": 29,
   "id": "e15525ff-0b4f-4422-8444-42ef29db83fb",
   "metadata": {},
   "outputs": [
    {
     "name": "stdout",
     "output_type": "stream",
     "text": [
      "First 10 songs in the dataset:\n",
      "- Can't We Start Over Again\n",
      "- Dunnes Stores\n",
      "- Beethoven\n",
      "- Baby When The Light\n",
      "- The Legend Of Johnny And Sarah\n",
      "- Close To You\n",
      "- Lady Grinning Soul\n",
      "- A Little Bit More\n",
      "- I Miss My Dawgs\n",
      "- Break 'em Off Somethin' Proper\n",
      "\n",
      "Dataframe columns:\n",
      "['artist', 'song', 'text']\n"
     ]
    }
   ],
   "source": [
    "# Print the first 10 song names in your dataset\n",
    "print(\"First 10 songs in the dataset:\")\n",
    "for song in df['song'].head(10):\n",
    "    print(f\"- {song}\")\n",
    "\n",
    "# If this doesn't show useful results, check if your column name is correct\n",
    "print(\"\\nDataframe columns:\")\n",
    "print(df.columns.tolist())"
   ]
  },
  {
   "cell_type": "code",
   "execution_count": 30,
   "id": "5a52235e-ebf0-4489-aa79-66090a6e0b5d",
   "metadata": {},
   "outputs": [
    {
     "data": {
      "text/plain": [
       "['Come Home To Me',\n",
       " 'As Long As I Love',\n",
       " 'World Of Stone',\n",
       " 'Today I Started Loving You Again',\n",
       " 'Love Will Lead You Back']"
      ]
     },
     "execution_count": 30,
     "metadata": {},
     "output_type": "execute_result"
    }
   ],
   "source": [
    "recommendation(\"Can't We Start Over Again\")  # Use an exact song name from your dataset"
   ]
  },
  {
   "cell_type": "code",
   "execution_count": 31,
   "id": "a9cb309f-5529-486d-9846-ca1b7ccb709b",
   "metadata": {},
   "outputs": [],
   "source": [
    "import pickle\n",
    "pickle.dump(similarity,open('similarity.pkl','wb'))\n",
    "pickle.dump(df,open('df.pkl','wb'))"
   ]
  },
  {
   "cell_type": "code",
   "execution_count": null,
   "id": "a948f157-4c0d-444e-8193-eed7e81ad09c",
   "metadata": {},
   "outputs": [],
   "source": []
  }
 ],
 "metadata": {
  "kernelspec": {
   "display_name": "Python 3 (ipykernel)",
   "language": "python",
   "name": "python3"
  },
  "language_info": {
   "codemirror_mode": {
    "name": "ipython",
    "version": 3
   },
   "file_extension": ".py",
   "mimetype": "text/x-python",
   "name": "python",
   "nbconvert_exporter": "python",
   "pygments_lexer": "ipython3",
   "version": "3.13.2"
  }
 },
 "nbformat": 4,
 "nbformat_minor": 5
}
